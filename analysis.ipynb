{
 "cells": [
  {
   "cell_type": "code",
   "execution_count": null,
   "metadata": {},
   "outputs": [],
   "source": [
    "import matplotlib.pyplot as plt\n",
    "import pandas as pd\n",
    "import seaborn as sns\n"
   ]
  },
  {
   "cell_type": "code",
   "execution_count": null,
   "metadata": {},
   "outputs": [],
   "source": [
    "music_data = pd.read_csv(\"C:/Users/DELL/projects/Music Info/Music Info.csv\")\n",
    "music_data.head(2)"
   ]
  },
  {
   "cell_type": "code",
   "execution_count": null,
   "metadata": {},
   "outputs": [],
   "source": [
    "# Analyze most popular artists\n",
    "artist_counts = music_data['artist'].value_counts()\n",
    "print(\"Top 10 Most Popular Artists:\")\n",
    "print(artist_counts.head(10))\n"
   ]
  },
  {
   "cell_type": "code",
   "execution_count": null,
   "metadata": {},
   "outputs": [],
   "source": [
    "# Analyze genres from tags\n",
    "all_genres = []\n",
    "for tags in music_data['tags']:\n",
    "    if isinstance(tags, str):\n",
    "        genres = [g.strip() for g in tags.split(',')]\n",
    "        all_genres.extend(genres)\n",
    "\n",
    "genre_counts = pd.Series(all_genres).value_counts()\n",
    "print(\"\\nTop 10 Most Popular Genres:\")\n",
    "print(genre_counts.head(10))"
   ]
  },
  {
   "cell_type": "code",
   "execution_count": null,
   "metadata": {},
   "outputs": [],
   "source": [
    "plt.figure(figsize=(12, 6))\n",
    "genre_counts.head(10).plot(kind='bar')\n",
    "plt.title('Top 10 Genres',fontweight='bold')\n",
    "plt.xticks(rotation=45, ha='right');"
   ]
  },
  {
   "cell_type": "code",
   "execution_count": null,
   "metadata": {},
   "outputs": [],
   "source": [
    "plt.figure(figsize=(12, 6))\n",
    "artist_counts.head(10).plot(kind='bar')\n",
    "plt.title('Top 10 Artists')\n",
    "plt.xticks(rotation=45, ha='right');"
   ]
  },
  {
   "cell_type": "code",
   "execution_count": null,
   "metadata": {},
   "outputs": [],
   "source": [
    "# Analysis of Music Trends Over Time\n",
    "\n",
    "# Calculate yearly trends\n",
    "yearly_trends = music_data.groupby('year').agg({\n",
    "    'danceability': 'mean',\n",
    "    'energy': 'mean',\n",
    "    'loudness': 'mean',\n",
    "    'valence': 'mean',\n",
    "    'tempo': 'mean',\n",
    "    'acousticness': 'mean'\n",
    "}).reset_index()"
   ]
  },
  {
   "cell_type": "code",
   "execution_count": null,
   "metadata": {},
   "outputs": [],
   "source": [
    "fig, axes = plt.subplots(nrows=3, ncols=2, figsize=(15, 15), sharex=True)\n",
    "fig.suptitle('Evolution of Music Characteristics Over Time', fontsize=16)\n",
    "\n",
    "\n",
    "features = ['danceability', 'energy', 'loudness', 'valence', 'tempo', 'acousticness']\n",
    "for idx, feature in enumerate(features):\n",
    "    row = idx // 2\n",
    "    col = idx % 2\n",
    "    \n",
    "    sns.regplot(data=yearly_trends, x='year', y=feature, ax=axes[row, col])\n",
    "    axes[row, col].set_title(f'Average {feature.capitalize()} Over Time')\n",
    "    axes[row, col].set_xlabel('Year')\n",
    "    axes[row, col].set_ylabel(feature.capitalize())"
   ]
  },
  {
   "cell_type": "code",
   "execution_count": null,
   "metadata": {},
   "outputs": [],
   "source": [
    "# Analyze genre distribution\n",
    "music_data['decade'] = (music_data['year'] // 10) * 10\n",
    "plt.figure(figsize=(15, 8))\n",
    "genre_by_decade = music_data.groupby('decade')['genre'].value_counts().unstack()\n",
    "genre_by_decade.plot(kind='bar', stacked=True)\n",
    "plt.title('Genre Distribution by Decade')\n",
    "plt.xlabel('Decade')\n",
    "plt.ylabel('Number of Songs')\n",
    "plt.legend(title='Genre', bbox_to_anchor=(1.05, 1));"
   ]
  },
  {
   "cell_type": "code",
   "execution_count": null,
   "metadata": {},
   "outputs": [],
   "source": [
    "# Analyze song duration trends\n",
    "yearly_duration = music_data.groupby('year')['duration_ms'].agg(['mean', 'std']).reset_index()\n",
    "yearly_duration['mean_minutes'] = yearly_duration['mean'] / (1000 * 60)\n",
    "\n",
    "plt.figure(figsize=(12, 6))\n",
    "plt.plot(yearly_duration['year'], yearly_duration['mean_minutes'])\n",
    "plt.fill_between(\n",
    "    yearly_duration['year'],\n",
    "    (yearly_duration['mean'] - yearly_duration['std'])/(1000 * 60),\n",
    "    (yearly_duration['mean'] + yearly_duration['std'])/(1000 * 60),\n",
    "    alpha=0.2\n",
    ")\n",
    "plt.title('Average Song Duration Over Time')\n",
    "plt.xlabel('Year')\n",
    "plt.ylabel('Duration (minutes)')\n",
    "plt.grid(True, alpha=0.5)\n"
   ]
  },
  {
   "cell_type": "code",
   "execution_count": null,
   "metadata": {},
   "outputs": [],
   "source": [
    "selected_columns = ['duration_ms', 'danceability', 'energy', 'key',\n",
    "                    'loudness', 'mode', 'speechiness', 'acousticness', \n",
    "                    'instrumentalness', 'liveness', 'valence', \n",
    "                    'tempo', 'time_signature']\n",
    "\n",
    "# Extract the relevant data from the DataFrame\n",
    "music_info = music_data[selected_columns]\n",
    "\n",
    "# Calculate the correlation matrix\n",
    "correlation_matrix = music_info.corr()\n",
    "\n",
    "# Plot the correlation matrix using seaborn\n",
    "plt.figure(figsize=(15, 6))\n",
    "sns.heatmap(correlation_matrix, annot=True, cmap='coolwarm', fmt='.2f')\n",
    "plt.title('Correlation Matrix of Music Features', fontweight='bold')\n",
    "plt.xticks(rotation=45, ha='right');"
   ]
  },
  {
   "cell_type": "code",
   "execution_count": null,
   "metadata": {},
   "outputs": [],
   "source": [
    "listening_history = pd.read_csv(\"C:/Users/DELL/projects/User Listening History/User Listening History.csv\")\n",
    "\n",
    "listening_history.head()\n"
   ]
  },
  {
   "cell_type": "code",
   "execution_count": null,
   "metadata": {},
   "outputs": [],
   "source": [
    "# Getting play counts for each song \n",
    "play_counts = listening_history[\"track_id\"].value_counts()\n",
    "music_data[\"popularity\"] = music_data[\"track_id\"].map(play_counts).fillna(0)\n"
   ]
  },
  {
   "cell_type": "code",
   "execution_count": null,
   "metadata": {},
   "outputs": [],
   "source": [
    "# Getting popular song (top 25% by play count)\n",
    "popularity_threshold = music_data[\"popularity\"].quantile(0.75)\n",
    "popular_songs = music_data[music_data[\"popularity\"] >= popularity_threshold]\n"
   ]
  },
  {
   "cell_type": "code",
   "execution_count": null,
   "metadata": {},
   "outputs": [],
   "source": [
    "# Extracting and counting tags from popular songs\n",
    "popular_tags = []\n",
    "for tags in popular_songs[\"tags\"]:\n",
    "    if isinstance(tags, str):\n",
    "        tag_list = [tag.strip().lower() for tag in tags.split(\",\")]\n",
    "        popular_tags.extend(tag_list)\n",
    "\n",
    "# Creating tag frequency for tags\n",
    "tag_frequency = pd.Series(popular_tags).value_counts()"
   ]
  },
  {
   "cell_type": "code",
   "execution_count": null,
   "metadata": {},
   "outputs": [],
   "source": [
    "# Plotting the top 20 tags among the population\n",
    "plt.figure(figsize=(15, 8))\n",
    "tag_frequency.head(20).plot(kind= \"bar\")\n",
    "plt.title(\"Top 20 Keywords In Popular Songs\", fontweight = \"bold\")\n",
    "plt.xlabel(\"Keywords\")\n",
    "plt.ylabel(\"Frequency\")\n",
    "plt.xticks(rotation = 45, ha= \"right\");"
   ]
  },
  {
   "cell_type": "code",
   "execution_count": null,
   "metadata": {},
   "outputs": [],
   "source": [
    "# The top 20 keywords in popular songs\n",
    "print(\"Top 20 Keywords in Popular Songs: \")\n",
    "tag_frequency.head(20)"
   ]
  },
  {
   "cell_type": "code",
   "execution_count": null,
   "metadata": {},
   "outputs": [],
   "source": [
    "top_tags = list(tag_frequency.head(5).index)\n",
    "\n",
    "print(\"Average Audio Feature for Songs with Top Tags:\")\n",
    "for tag in top_tags:\n",
    "    songs_with_tags = music_data[music_data[\"tags\"].str.contains(tag, na= False)]\n",
    "\n",
    "    print(f\"\\nTag: {tag}\")\n",
    "    for feat in features:\n",
    "        avg_value = songs_with_tags[feat].mean()\n",
    "        print(f\"{feat}: {avg_value:.3f}\")"
   ]
  },
  {
   "cell_type": "code",
   "execution_count": null,
   "metadata": {},
   "outputs": [],
   "source": [
    "# Creating a heatmap of tag co-occurrence in popular songs\n",
    "tag_pairs = []\n",
    "for tags in popular_songs['tags']:\n",
    "    if isinstance(tags, str):\n",
    "        tag_list = [tag.strip().lower() for tag in tags.split(',')]\n",
    "        for i in range(len(tag_list)):\n",
    "            for j in range(i + 1, len(tag_list)):\n",
    "                tag_pairs.append(tuple(sorted([tag_list[i], tag_list[j]])))\n",
    "\n",
    "pair_freq = pd.Series(tag_pairs).value_counts()\n",
    "\n",
    "print(\"\\nMost Common Tag Combinations in Popular Songs:\")\n",
    "print(pair_freq.head(10))\n",
    "\n",
    "# Plot correlation between audio features for popular songs\n",
    "plt.figure(figsize=(10, 5))\n",
    "correlation = popular_songs[features].corr()\n",
    "sns.heatmap(correlation, annot=True, cmap='coolwarm', center=0)\n",
    "plt.title('Correlation of Audio Features in Popular Songs');"
   ]
  },
  {
   "cell_type": "code",
   "execution_count": null,
   "metadata": {},
   "outputs": [],
   "source": [
    "music_data = pd.read_csv(\"C:/Users/DELL/projects/Music Info/Music Info.csv\")\n",
    "music_data.head(2)"
   ]
  },
  {
   "cell_type": "code",
   "execution_count": null,
   "metadata": {},
   "outputs": [],
   "source": [
    "# Analyze most popular artists\n",
    "artist_counts = music_data['artist'].value_counts()\n",
    "print(\"Top 10 Most Popular Artists:\")\n",
    "print(artist_counts.head(10))\n"
   ]
  },
  {
   "cell_type": "code",
   "execution_count": null,
   "metadata": {},
   "outputs": [],
   "source": [
    "# Analyze genres from tags\n",
    "all_genres = []\n",
    "for tags in music_data['tags']:\n",
    "    if isinstance(tags, str):\n",
    "        genres = [g.strip() for g in tags.split(',')]\n",
    "        all_genres.extend(genres)\n",
    "\n",
    "genre_counts = pd.Series(all_genres).value_counts()\n",
    "print(\"\\nTop 10 Most Popular Genres:\")\n",
    "print(genre_counts.head(10))"
   ]
  },
  {
   "cell_type": "code",
   "execution_count": null,
   "metadata": {},
   "outputs": [],
   "source": [
    "plt.figure(figsize=(12, 6))\n",
    "genre_counts.head(10).plot(kind='bar')\n",
    "plt.title('Top 10 Genres',fontweight='bold')\n",
    "plt.xticks(rotation=45, ha='right');"
   ]
  },
  {
   "cell_type": "code",
   "execution_count": null,
   "metadata": {},
   "outputs": [],
   "source": [
    "plt.figure(figsize=(12, 6))\n",
    "artist_counts.head(10).plot(kind='bar')\n",
    "plt.title('Top 10 Artists')\n",
    "plt.xticks(rotation=45, ha='right');"
   ]
  },
  {
   "cell_type": "code",
   "execution_count": null,
   "metadata": {},
   "outputs": [],
   "source": [
    "# Analysis of Music Trends Over Time\n",
    "\n",
    "# Calculate yearly trends\n",
    "yearly_trends = music_data.groupby('year').agg({\n",
    "    'danceability': 'mean',\n",
    "    'energy': 'mean',\n",
    "    'loudness': 'mean',\n",
    "    'valence': 'mean',\n",
    "    'tempo': 'mean',\n",
    "    'acousticness': 'mean'\n",
    "}).reset_index()"
   ]
  },
  {
   "cell_type": "code",
   "execution_count": null,
   "metadata": {},
   "outputs": [],
   "source": [
    "fig, axes = plt.subplots(nrows=3, ncols=2, figsize=(15, 15), sharex=True)\n",
    "fig.suptitle('Evolution of Music Characteristics Over Time', fontsize=16)\n",
    "\n",
    "\n",
    "features = ['danceability', 'energy', 'loudness', 'valence', 'tempo', 'acousticness']\n",
    "for idx, feature in enumerate(features):\n",
    "    row = idx // 2\n",
    "    col = idx % 2\n",
    "    \n",
    "    sns.regplot(data=yearly_trends, x='year', y=feature, ax=axes[row, col])\n",
    "    axes[row, col].set_title(f'Average {feature.capitalize()} Over Time')\n",
    "    axes[row, col].set_xlabel('Year')\n",
    "    axes[row, col].set_ylabel(feature.capitalize())"
   ]
  },
  {
   "cell_type": "code",
   "execution_count": null,
   "metadata": {},
   "outputs": [],
   "source": [
    "# Analyze genre distribution\n",
    "music_data['decade'] = (music_data['year'] // 10) * 10\n",
    "plt.figure(figsize=(15, 8))\n",
    "genre_by_decade = music_data.groupby('decade')['genre'].value_counts().unstack()\n",
    "genre_by_decade.plot(kind='bar', stacked=True)\n",
    "plt.title('Genre Distribution by Decade')\n",
    "plt.xlabel('Decade')\n",
    "plt.ylabel('Number of Songs')\n",
    "plt.legend(title='Genre', bbox_to_anchor=(1.05, 1));"
   ]
  },
  {
   "cell_type": "code",
   "execution_count": null,
   "metadata": {},
   "outputs": [],
   "source": [
    "# Analyze song duration trends\n",
    "yearly_duration = music_data.groupby('year')['duration_ms'].agg(['mean', 'std']).reset_index()\n",
    "yearly_duration['mean_minutes'] = yearly_duration['mean'] / (1000 * 60)\n",
    "\n",
    "plt.figure(figsize=(12, 6))\n",
    "plt.plot(yearly_duration['year'], yearly_duration['mean_minutes'])\n",
    "plt.fill_between(\n",
    "    yearly_duration['year'],\n",
    "    (yearly_duration['mean'] - yearly_duration['std'])/(1000 * 60),\n",
    "    (yearly_duration['mean'] + yearly_duration['std'])/(1000 * 60),\n",
    "    alpha=0.2\n",
    ")\n",
    "plt.title('Average Song Duration Over Time')\n",
    "plt.xlabel('Year')\n",
    "plt.ylabel('Duration (minutes)')\n",
    "plt.grid(True, alpha=0.5)\n"
   ]
  },
  {
   "cell_type": "code",
   "execution_count": null,
   "metadata": {},
   "outputs": [],
   "source": [
    "selected_columns = ['duration_ms', 'danceability', 'energy', 'key',\n",
    "                    'loudness', 'mode', 'speechiness', 'acousticness', \n",
    "                    'instrumentalness', 'liveness', 'valence', \n",
    "                    'tempo', 'time_signature']\n",
    "\n",
    "# Extract the relevant data from the DataFrame\n",
    "music_info = music_data[selected_columns]\n",
    "\n",
    "# Calculate the correlation matrix\n",
    "correlation_matrix = music_info.corr()\n",
    "\n",
    "# Plot the correlation matrix using seaborn\n",
    "plt.figure(figsize=(15, 6))\n",
    "sns.heatmap(correlation_matrix, annot=True, cmap='coolwarm', fmt='.2f')\n",
    "plt.title('Correlation Matrix of Music Features', fontweight='bold')\n",
    "plt.xticks(rotation=45, ha='right');"
   ]
  },
  {
   "cell_type": "code",
   "execution_count": null,
   "metadata": {},
   "outputs": [],
   "source": [
    "listening_history = pd.read_csv(\"C:/Users/DELL/projects/User Listening History/User Listening History.csv\")\n",
    "\n",
    "listening_history.head()\n"
   ]
  },
  {
   "cell_type": "code",
   "execution_count": null,
   "metadata": {},
   "outputs": [],
   "source": [
    "# Getting play counts for each song \n",
    "play_counts = listening_history[\"track_id\"].value_counts()\n",
    "music_data[\"popularity\"] = music_data[\"track_id\"].map(play_counts).fillna(0)\n"
   ]
  },
  {
   "cell_type": "code",
   "execution_count": null,
   "metadata": {},
   "outputs": [],
   "source": [
    "# Getting popular song (top 25% by play count)\n",
    "popularity_threshold = music_data[\"popularity\"].quantile(0.75)\n",
    "popular_songs = music_data[music_data[\"popularity\"] >= popularity_threshold]\n"
   ]
  },
  {
   "cell_type": "code",
   "execution_count": null,
   "metadata": {},
   "outputs": [],
   "source": [
    "# Extracting and counting tags from popular songs\n",
    "popular_tags = []\n",
    "for tags in popular_songs[\"tags\"]:\n",
    "    if isinstance(tags, str):\n",
    "        tag_list = [tag.strip().lower() for tag in tags.split(\",\")]\n",
    "        popular_tags.extend(tag_list)\n",
    "\n",
    "# Creating tag frequency for tags\n",
    "tag_frequency = pd.Series(popular_tags).value_counts()"
   ]
  },
  {
   "cell_type": "code",
   "execution_count": null,
   "metadata": {},
   "outputs": [],
   "source": [
    "# Plotting the top 20 tags among the population\n",
    "plt.figure(figsize=(15, 8))\n",
    "tag_frequency.head(20).plot(kind= \"bar\")\n",
    "plt.title(\"Top 20 Keywords In Popular Songs\", fontweight = \"bold\")\n",
    "plt.xlabel(\"Keywords\")\n",
    "plt.ylabel(\"Frequency\")\n",
    "plt.xticks(rotation = 45, ha= \"right\");"
   ]
  },
  {
   "cell_type": "code",
   "execution_count": null,
   "metadata": {},
   "outputs": [],
   "source": [
    "# The top 20 keywords in popular songs\n",
    "print(\"Top 20 Keywords in Popular Songs: \")\n",
    "tag_frequency.head(20)"
   ]
  },
  {
   "cell_type": "code",
   "execution_count": null,
   "metadata": {},
   "outputs": [],
   "source": [
    "top_tags = list(tag_frequency.head(5).index)\n",
    "\n",
    "print(\"Average Audio Feature for Songs with Top Tags:\")\n",
    "for tag in top_tags:\n",
    "    songs_with_tags = music_data[music_data[\"tags\"].str.contains(tag, na= False)]\n",
    "\n",
    "    print(f\"\\nTag: {tag}\")\n",
    "    for feat in features:\n",
    "        avg_value = songs_with_tags[feat].mean()\n",
    "        print(f\"{feat}: {avg_value:.3f}\")"
   ]
  },
  {
   "cell_type": "code",
   "execution_count": null,
   "metadata": {},
   "outputs": [],
   "source": [
    "# Creating a heatmap of tag co-occurrence in popular songs\n",
    "tag_pairs = []\n",
    "for tags in popular_songs['tags']:\n",
    "    if isinstance(tags, str):\n",
    "        tag_list = [tag.strip().lower() for tag in tags.split(',')]\n",
    "        for i in range(len(tag_list)):\n",
    "            for j in range(i + 1, len(tag_list)):\n",
    "                tag_pairs.append(tuple(sorted([tag_list[i], tag_list[j]])))\n",
    "\n",
    "pair_freq = pd.Series(tag_pairs).value_counts()\n",
    "\n",
    "print(\"\\nMost Common Tag Combinations in Popular Songs:\")\n",
    "print(pair_freq.head(10))\n",
    "\n",
    "# Plot correlation between audio features for popular songs\n",
    "plt.figure(figsize=(10, 5))\n",
    "correlation = popular_songs[features].corr()\n",
    "sns.heatmap(correlation, annot=True, cmap='coolwarm', center=0)\n",
    "plt.title('Correlation of Audio Features in Popular Songs');"
   ]
  }
 ],
 "metadata": {
  "kernelspec": {
   "display_name": "spotify",
   "language": "python",
   "name": "python3"
  },
  "language_info": {
   "codemirror_mode": {
    "name": "ipython",
    "version": 3
   },
   "file_extension": ".py",
   "mimetype": "text/x-python",
   "name": "python",
   "nbconvert_exporter": "python",
   "pygments_lexer": "ipython3",
   "version": "3.12.5"
  }
 },
 "nbformat": 4,
 "nbformat_minor": 2
}
